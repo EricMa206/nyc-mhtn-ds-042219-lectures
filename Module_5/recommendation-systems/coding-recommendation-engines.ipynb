{
 "cells": [
  {
   "cell_type": "markdown",
   "metadata": {},
   "source": [
    "# Recommendation Engines: Implementing Surprise\n",
    "- Surprise is a scikit library that stands for **Simple Python RecommendatIon System Engine**\n",
    "- Has built-in similarity metrics, baseline methods, content-based systems, matrix factorization systems\n",
    "\n",
    "In this notebook, we'll first walk through setting up a super basic recommendation system, using the popular MovieLens 100K Dataset. Then, we'll look into more detail how Surprise works.\n",
    "\n",
    "## Fitting and Predicting with Surprise\n",
    "\n",
    "### 1. Install surprise if you haven't, and import the usual libraries."
   ]
  },
  {
   "cell_type": "code",
   "execution_count": 1,
   "metadata": {},
   "outputs": [
    {
     "name": "stdout",
     "output_type": "stream",
     "text": [
      "Collecting surprise\n",
      "  Downloading https://files.pythonhosted.org/packages/61/de/e5cba8682201fcf9c3719a6fdda95693468ed061945493dea2dd37c5618b/surprise-0.1-py2.py3-none-any.whl\n",
      "Collecting scikit-surprise (from surprise)\n",
      "\u001b[?25l  Downloading https://files.pythonhosted.org/packages/4d/fc/cd4210b247d1dca421c25994740cbbf03c5e980e31881f10eaddf45fdab0/scikit-surprise-1.0.6.tar.gz (3.3MB)\n",
      "\u001b[K     |████████████████████████████████| 3.3MB 101kB/s eta 0:00:01\n",
      "\u001b[?25hCollecting joblib>=0.11 (from scikit-surprise->surprise)\n",
      "\u001b[?25l  Downloading https://files.pythonhosted.org/packages/cd/c1/50a758e8247561e58cb87305b1e90b171b8c767b15b12a1734001f41d356/joblib-0.13.2-py2.py3-none-any.whl (278kB)\n",
      "\u001b[K     |████████████████████████████████| 286kB 9.9MB/s eta 0:00:01\n",
      "\u001b[?25hRequirement already satisfied: numpy>=1.11.2 in /Users/ericma/anaconda3/envs/learn-env/lib/python3.6/site-packages (from scikit-surprise->surprise) (1.16.2)\n",
      "Requirement already satisfied: scipy>=1.0.0 in /Users/ericma/anaconda3/envs/learn-env/lib/python3.6/site-packages (from scikit-surprise->surprise) (1.1.0)\n",
      "Requirement already satisfied: six>=1.10.0 in /Users/ericma/anaconda3/envs/learn-env/lib/python3.6/site-packages (from scikit-surprise->surprise) (1.11.0)\n",
      "Building wheels for collected packages: scikit-surprise\n",
      "  Building wheel for scikit-surprise (setup.py) ... \u001b[?25ldone\n",
      "\u001b[?25h  Stored in directory: /Users/ericma/Library/Caches/pip/wheels/ec/c0/55/3a28eab06b53c220015063ebbdb81213cd3dcbb72c088251ec\n",
      "Successfully built scikit-surprise\n",
      "Installing collected packages: joblib, scikit-surprise, surprise\n",
      "Successfully installed joblib-0.13.2 scikit-surprise-1.0.6 surprise-0.1\n"
     ]
    }
   ],
   "source": [
    "!pip install surprise"
   ]
  },
  {
   "cell_type": "code",
   "execution_count": 11,
   "metadata": {},
   "outputs": [],
   "source": [
    "# import libraries\n",
    "import numpy as np\n",
    "import pandas as pd\n",
    "\n",
    "from surprise import Dataset, Reader\n",
    "from surprise import SVD\n",
    "from surprise import accuracy\n",
    "from surprise.model_selection import cross_validate, train_test_split\n",
    "import seaborn as sns"
   ]
  },
  {
   "cell_type": "markdown",
   "metadata": {},
   "source": [
    "### 2. Load in the dataset\n",
    "\n",
    "Surprise has the dataset built in. You might need to download the dataset so follow the instructions in the code output! Unfortunately, the Surprise data format doesn't let us inspect the data, but here is the documentation: https://grouplens.org/datasets/movielens/100k/\n"
   ]
  },
  {
   "cell_type": "code",
   "execution_count": 3,
   "metadata": {},
   "outputs": [
    {
     "name": "stdout",
     "output_type": "stream",
     "text": [
      "Dataset ml-100k could not be found. Do you want to download it? [Y/n] Y\n",
      "Trying to download dataset from http://files.grouplens.org/datasets/movielens/ml-100k.zip...\n",
      "Done! Dataset ml-100k has been saved to /Users/ericma/.surprise_data/ml-100k\n"
     ]
    }
   ],
   "source": [
    "data = Dataset.load_builtin('ml-100k')\n",
    "\n",
    "# train-test split\n",
    "train, test = train_test_split(data, test_size=.2)\n"
   ]
  },
  {
   "cell_type": "code",
   "execution_count": 4,
   "metadata": {},
   "outputs": [
    {
     "data": {
      "text/plain": [
       "<surprise.trainset.Trainset at 0x1128b0dd8>"
      ]
     },
     "execution_count": 4,
     "metadata": {},
     "output_type": "execute_result"
    }
   ],
   "source": [
    "train"
   ]
  },
  {
   "cell_type": "markdown",
   "metadata": {},
   "source": [
    "### 3. Run the default Singular Value Decomposition Model!"
   ]
  },
  {
   "cell_type": "code",
   "execution_count": 5,
   "metadata": {},
   "outputs": [],
   "source": [
    "svd = SVD()\n",
    "svd.fit(train)\n",
    "predictions = svd.test(test)"
   ]
  },
  {
   "cell_type": "code",
   "execution_count": 6,
   "metadata": {},
   "outputs": [
    {
     "name": "stdout",
     "output_type": "stream",
     "text": [
      "RMSE: 0.9346\n"
     ]
    },
    {
     "data": {
      "text/plain": [
       "0.9346360164698791"
      ]
     },
     "execution_count": 6,
     "metadata": {},
     "output_type": "execute_result"
    }
   ],
   "source": [
    "accuracy.rmse(predictions)"
   ]
  },
  {
   "cell_type": "markdown",
   "metadata": {},
   "source": [
    "### 4. Make a prediction!"
   ]
  },
  {
   "cell_type": "code",
   "execution_count": 7,
   "metadata": {},
   "outputs": [
    {
     "name": "stdout",
     "output_type": "stream",
     "text": [
      "user: 196        item: 302        r_ui = 4.00   est = 4.10   {'was_impossible': False}\n"
     ]
    }
   ],
   "source": [
    "uid = str(196)  # raw user id (as in the ratings file). They are **strings**!\n",
    "iid = str(302)\n",
    "\n",
    "# get a prediction for specific users and items.\n",
    "pred = svd.predict(uid, iid, r_ui=4, verbose=True)"
   ]
  },
  {
   "cell_type": "markdown",
   "metadata": {},
   "source": [
    "## Applying Surprise\n",
    "\n",
    "### 1. How does Surprise take in your data?\n",
    "https://surprise.readthedocs.io/en/stable/getting_started.html#use-a-custom-dataset\n",
    "\n",
    "The dataset we'll use is a subset of the Yelp Open Dataset that's already been joined and cleaned.\n",
    "https://www.yelp.com/dataset"
   ]
  },
  {
   "cell_type": "code",
   "execution_count": 8,
   "metadata": {},
   "outputs": [],
   "source": [
    "yelp = pd.read_csv('yelp_reviews.csv').drop(['Unnamed: 0'], axis = 1)"
   ]
  },
  {
   "cell_type": "code",
   "execution_count": 9,
   "metadata": {
    "scrolled": true
   },
   "outputs": [
    {
     "data": {
      "text/html": [
       "<div>\n",
       "<style scoped>\n",
       "    .dataframe tbody tr th:only-of-type {\n",
       "        vertical-align: middle;\n",
       "    }\n",
       "\n",
       "    .dataframe tbody tr th {\n",
       "        vertical-align: top;\n",
       "    }\n",
       "\n",
       "    .dataframe thead th {\n",
       "        text-align: right;\n",
       "    }\n",
       "</style>\n",
       "<table border=\"1\" class=\"dataframe\">\n",
       "  <thead>\n",
       "    <tr style=\"text-align: right;\">\n",
       "      <th></th>\n",
       "      <th>user_id</th>\n",
       "      <th>business_id</th>\n",
       "      <th>stars</th>\n",
       "    </tr>\n",
       "  </thead>\n",
       "  <tbody>\n",
       "    <tr>\n",
       "      <th>0</th>\n",
       "      <td>brd33PD_6nqK_VVnO3NWAg</td>\n",
       "      <td>--1UhMGODdWsrMastO9DZw</td>\n",
       "      <td>4.0</td>\n",
       "    </tr>\n",
       "    <tr>\n",
       "      <th>1</th>\n",
       "      <td>NqpKiaRsGfuU2voV5dPRCQ</td>\n",
       "      <td>--1UhMGODdWsrMastO9DZw</td>\n",
       "      <td>1.0</td>\n",
       "    </tr>\n",
       "    <tr>\n",
       "      <th>2</th>\n",
       "      <td>dhzlnpisqA7V1zfiO12AZA</td>\n",
       "      <td>--1UhMGODdWsrMastO9DZw</td>\n",
       "      <td>2.0</td>\n",
       "    </tr>\n",
       "    <tr>\n",
       "      <th>3</th>\n",
       "      <td>A4bpHuvzaQt9-XAg8e9Msw</td>\n",
       "      <td>--1UhMGODdWsrMastO9DZw</td>\n",
       "      <td>3.0</td>\n",
       "    </tr>\n",
       "    <tr>\n",
       "      <th>4</th>\n",
       "      <td>GL81ktDIteXA2VVH6gIakg</td>\n",
       "      <td>--1UhMGODdWsrMastO9DZw</td>\n",
       "      <td>5.0</td>\n",
       "    </tr>\n",
       "  </tbody>\n",
       "</table>\n",
       "</div>"
      ],
      "text/plain": [
       "                  user_id             business_id  stars\n",
       "0  brd33PD_6nqK_VVnO3NWAg  --1UhMGODdWsrMastO9DZw    4.0\n",
       "1  NqpKiaRsGfuU2voV5dPRCQ  --1UhMGODdWsrMastO9DZw    1.0\n",
       "2  dhzlnpisqA7V1zfiO12AZA  --1UhMGODdWsrMastO9DZw    2.0\n",
       "3  A4bpHuvzaQt9-XAg8e9Msw  --1UhMGODdWsrMastO9DZw    3.0\n",
       "4  GL81ktDIteXA2VVH6gIakg  --1UhMGODdWsrMastO9DZw    5.0"
      ]
     },
     "execution_count": 9,
     "metadata": {},
     "output_type": "execute_result"
    }
   ],
   "source": [
    "yelp.head()"
   ]
  },
  {
   "cell_type": "markdown",
   "metadata": {},
   "source": [
    "### 2. Inspecting the dataset:\n",
    "\n",
    "Here's where you'd do a **comprehensive** EDA!"
   ]
  },
  {
   "cell_type": "code",
   "execution_count": 10,
   "metadata": {
    "scrolled": true
   },
   "outputs": [
    {
     "name": "stdout",
     "output_type": "stream",
     "text": [
      "Number of Users:  79773\n",
      "Number of Businesses:  2518\n"
     ]
    }
   ],
   "source": [
    "print('Number of Users: ', len(yelp['user_id'].unique()))\n",
    "print('Number of Businesses: ', len(yelp['business_id'].unique()))"
   ]
  },
  {
   "cell_type": "markdown",
   "metadata": {},
   "source": [
    "1. What's the distribution of ratings? i.e. How many 1-star, 2-star, 3-star reviews?\n",
    "2. How many reviews does a restaurant have?\n",
    "3. How many reviews does a user make?"
   ]
  },
  {
   "cell_type": "code",
   "execution_count": 12,
   "metadata": {},
   "outputs": [
    {
     "name": "stderr",
     "output_type": "stream",
     "text": [
      "/Users/ericma/anaconda3/envs/learn-env/lib/python3.6/site-packages/scipy/stats/stats.py:1713: FutureWarning: Using a non-tuple sequence for multidimensional indexing is deprecated; use `arr[tuple(seq)]` instead of `arr[seq]`. In the future this will be interpreted as an array index, `arr[np.array(seq)]`, which will result either in an error or a different result.\n",
      "  return np.add.reduce(sorted[indexer] * weights, axis=axis) / sumval\n"
     ]
    },
    {
     "data": {
      "text/plain": [
       "<matplotlib.axes._subplots.AxesSubplot at 0x1a1a319fd0>"
      ]
     },
     "execution_count": 12,
     "metadata": {},
     "output_type": "execute_result"
    },
    {
     "data": {
      "image/png": "[encoded data removed]",
      "text/plain": [
       "<Figure size 432x288 with 1 Axes>"
      ]
     },
     "metadata": {
      "needs_background": "light"
     },
     "output_type": "display_data"
    }
   ],
   "source": [
    "sns.distplot(yelp['stars'])"
   ]
  },
  {
   "cell_type": "code",
   "execution_count": 13,
   "metadata": {},
   "outputs": [
    {
     "data": {
      "text/plain": [
       "-ed0Yc9on37RoIoG2ZgxBA    1694\n",
       "--9e1ONYQuAa-CB_Rrw7Tw    1661\n",
       "-6tvduBzjLI1ISfs3F_qTg    1194\n",
       "-U7tvCtaraTQ9b0zBhpBMA    1180\n",
       "-FLnsWAa4AGEW4NgE8Fqew    1128\n",
       "-Eu04UHRqmGGyvYRDY8-tg     940\n",
       "-av1lZI1JDY_RZN2eTMnWg     903\n",
       "-kG0N8sBhBotMbu0KVSPaw     882\n",
       "-WLrZPzjKfrftLWaCi1QZQ     866\n",
       "-Ht7HiGBox8lS1Y8IPjO8g     865\n",
       "-IWsoxH7mLJTTpU5MmWY4w     853\n",
       "-ZBfr1BHvArFp1d6XH8jOQ     808\n",
       "-oUM2uISux96lMGeawHIOA     795\n",
       "-kIscN8I29eXMPkvyyxmRQ     793\n",
       "-95mbLJsa0CxXhpaNL4LvA     736\n",
       "-050d_XIor1NpCuWkbIVaQ     725\n",
       "-bd4BQcl1ekgo7avaFngIw     679\n",
       "-Ylpy3VyRWwubf9dysuwjQ     677\n",
       "-FtngCwHCD2tRlH8jpj_Ag     664\n",
       "-3zffZUHoY8bQjGfPSoBKQ     653\n",
       "-9dmhyBvepc08KPEHlEM0w     638\n",
       "-Bdw-5H5C4AYSMGnAvmnzw     638\n",
       "-fiUXzkxRfbHY9TKWwuptw     623\n",
       "-o082vExIs0VVNSuZmiTQA     577\n",
       "-bMZCfTK7fxFaURynKpBMA     572\n",
       "-6h3K1hj0d4DRcZNUtHDuw     552\n",
       "-7H-oXvCxJzuT42ky6Db0g     550\n",
       "-a857YYdjzgOdOjFFRsRXQ     549\n",
       "-Dnh48f029YNugtMKkkI-Q     541\n",
       "-C8S2OPEOI1fL-2Q41tWVA     515\n",
       "                          ... \n",
       "-ktGd4cMY0V91Ihq4VQPJQ       3\n",
       "-7YM8-nptYNTirnR_nCcPg       3\n",
       "-UcXQ3zA8KTiol0yf4vSkg       3\n",
       "-QD-gLkW81l7LDEhwQTkRw       3\n",
       "-hzTn8lCyXzE1Z2A5b4Iig       3\n",
       "-Cg-SSXCY-HaXJMVomrzWg       3\n",
       "-l56GaqWOA7wGq88tG4c_A       3\n",
       "-ApqBP-q8OXWKJ-B6zPaPg       3\n",
       "-eFCQnOXK2AStH2WFAcuXw       3\n",
       "-ijns2EKG9ViCbwfcbxI_Q       3\n",
       "-S8_5dEdNwRoZnxUmKNNCQ       3\n",
       "-_rG50N8S2dDhM4UQ_lxsg       3\n",
       "-jiIu1RSUnGcWrqZHut0Zg       3\n",
       "-_r-t6zvyCuMXrsdBP3m6g       3\n",
       "-3k6bAm0_xMD4CYQmH6xHA       3\n",
       "-IIIN92a3NMtbpaRsL0Saw       3\n",
       "-b9xRmz8CeJUfrzYd0tM7Q       3\n",
       "-40RDS4F54qiGiEQUsZaXA       3\n",
       "-0KMvRFwDWdVBeTpT11iHw       3\n",
       "-MWC_QuOCSOXlJ9G2ohZMA       3\n",
       "-Uhooy74Hfs1Cxxzdo5Hqg       3\n",
       "-9km3GnK2sOKY-lOR6Ph0Q       3\n",
       "-NijOs_Jlne4ftywFywKYQ       3\n",
       "-fhq3ydpr22WWHCMwaw8oQ       3\n",
       "-La3NIJ2du3RE-Ld6G8SUQ       3\n",
       "-pG5nR5xmwzPvdPsw2ckkQ       3\n",
       "-iJTY1Ni2XKzSERbMP5kJQ       3\n",
       "-GkXrgdeRSn446BY8XrFYA       3\n",
       "-S-CUPzk98Y4V278HgVG0Q       3\n",
       "-YnOFIP-xZeWEwbatrDO9g       3\n",
       "Name: business_id, Length: 2518, dtype: int64"
      ]
     },
     "execution_count": 13,
     "metadata": {},
     "output_type": "execute_result"
    }
   ],
   "source": [
    "yelp['business_id'].value_counts()"
   ]
  },
  {
   "cell_type": "code",
   "execution_count": 14,
   "metadata": {},
   "outputs": [
    {
     "data": {
      "text/plain": [
       "CxDOIDnH8gp9KXzpBHJYXw    50\n",
       "U4INQZOPSUaj8hMjLlZ3KA    33\n",
       "bLbSNkLggFnqwNNzzq-Ijw    31\n",
       "QJI9OSEn6ujRCtrX06vs1w    27\n",
       "DK57YibC5ShBmqQl97CKog    27\n",
       "M9rRM6Eo5YbKLKMG5QiIPA    24\n",
       "PKEzKWv_FktMm2mGPjwd0Q    24\n",
       "j6wLUT0ZXi-x0otelYIFpA    23\n",
       "rCWrxuRC8_pfagpchtHp6A    22\n",
       "dIIKEfOgo0KqUfGQvGikPg    22\n",
       "iDlkZO2iILS8Jwfdy7DP9A    22\n",
       "24AzZDQKHySwMQR7VQVCAg    21\n",
       "JnPIjvC0cmooNDfsa9BmXg    21\n",
       "U5YQX_vMl_xQy8EQDqlNQQ    21\n",
       "d_TBs6J3twMy9GChqUEXkg    21\n",
       "UYcmGbelzRa0Q6JqzLoguw    20\n",
       "n86B7IkbU20AkxlFX_5aew    20\n",
       "N3oNEwh0qgPqPP3Em6wJXw    20\n",
       "pMefTWo6gMdx8WhYSA2u3w    20\n",
       "cMEtAiW60I5wE_vLfTxoJQ    20\n",
       "MMf0LhEk5tGa1LvN7zcDnA    20\n",
       "orh0HRUNCWuQMt9Iia_osg    19\n",
       "YRcaNlwQ6XXPFDXWtuMGdA    18\n",
       "TbhyP24zYZqZ2VJZgu1wrg    18\n",
       "Ry1O_KXZHGRI8g5zBR3IcQ    18\n",
       "hWDybu_KvYLSdEFzGrniTw    18\n",
       "ahwwAXJ_qwGmuRjTOHHMWg    17\n",
       "ic-tyi1jElL_umxZVh8KNA    17\n",
       "ELcQDlf69kb-ihJfxZyL0A    17\n",
       "sTcYq6goD1Fa2WS9MSkSvQ    17\n",
       "                          ..\n",
       "_TXxy-qAH1Ub7xrKvSoHnQ     1\n",
       "JzCQr4cppA7HNdSjwSd7qA     1\n",
       "55EN-6xL2h4nLQxc9DITmQ     1\n",
       "dBVMGa5CWomVaEqDrEvAPw     1\n",
       "EOxmDIA_t5lcBWeYyOv9vw     1\n",
       "wnlWhXaNcIDlj-h2teFBvQ     1\n",
       "apX-yJhg3rX2Na7NI8gYdg     1\n",
       "10q-Q9kowBsxqmzLh9IE5g     1\n",
       "XTCljunkd6sPGXaOuDAHmQ     1\n",
       "qI2I6gNtkIrLijgsJ-YX6Q     1\n",
       "d5Zda1xm1OM_REAIuTRCAg     1\n",
       "T3WuI_U-H3_j7aYfNfbdjw     1\n",
       "m_46rmURGklA6WwqPxGfsQ     1\n",
       "Ts6s2WgeO6eULK25M3Y34g     1\n",
       "Ji3EtstLPtwRFBLdZmCF0Q     1\n",
       "Teb_JTHNSWaBRnG5Hi_khw     1\n",
       "sgPIL2VF3-YsLfwv6Z60RQ     1\n",
       "SBdt6epayIdDmuwC74w6aw     1\n",
       "sKiHN8YAavBvWC0DsT5UOw     1\n",
       "svjXP7ipmQBeAihWMlDO7A     1\n",
       "7vaWPPLjhdogHLXWcJx6kA     1\n",
       "W1H2Bs3fu3amFJ-MCTKmXQ     1\n",
       "OhG5APNPhcdMFuRS-KfY1g     1\n",
       "0xZ9qKUrlCxtiq75tX-IcQ     1\n",
       "XLOVIvOaXc-5oy5sR0A1-w     1\n",
       "rh7Tad-EFmlHcRBtrJeXhw     1\n",
       "QyNx6GKLwW4xxDJUGQAxdQ     1\n",
       "P6jYYcjCSg4wfqsSXyg22g     1\n",
       "cXuMzvvSGPmvQGKgIijY2g     1\n",
       "uXuz_thWYJFX8qLQlQeMdw     1\n",
       "Name: user_id, Length: 79773, dtype: int64"
      ]
     },
     "execution_count": 14,
     "metadata": {},
     "output_type": "execute_result"
    }
   ],
   "source": [
    "yelp['user_id'].value_counts()"
   ]
  },
  {
   "cell_type": "markdown",
   "metadata": {},
   "source": [
    "### 3. Reading in the dataset and prepping data"
   ]
  },
  {
   "cell_type": "code",
   "execution_count": 15,
   "metadata": {},
   "outputs": [],
   "source": [
    "# Instantiate a 'Reader' to read in the data so Surprise can use it\n",
    "reader = Reader(rating_scale=(1, 5))\n",
    "\n",
    "# The columns must correspond to user id, item id and ratings (in that order).\n",
    "data = Dataset.load_from_df(yelp[['user_id', 'business_id', 'stars']], reader)"
   ]
  },
  {
   "cell_type": "code",
   "execution_count": 16,
   "metadata": {},
   "outputs": [],
   "source": [
    "trainset, testset = train_test_split(data, test_size=.2)"
   ]
  },
  {
   "cell_type": "markdown",
   "metadata": {},
   "source": [
    "### 4. Fitting and evaluating models\n",
    "Here, let's assume that we've tuned all these hyperparameters using GridSearch, and we've arrived at our final model."
   ]
  },
  {
   "cell_type": "code",
   "execution_count": 17,
   "metadata": {},
   "outputs": [],
   "source": [
    "final = SVD(n_epochs=20, n_factors=1, biased=True, \n",
    "              lr_all=0.005, reg_all=0.06)"
   ]
  },
  {
   "cell_type": "code",
   "execution_count": 18,
   "metadata": {},
   "outputs": [
    {
     "data": {
      "text/plain": [
       "<surprise.prediction_algorithms.matrix_factorization.SVD at 0x1128c9668>"
      ]
     },
     "execution_count": 18,
     "metadata": {},
     "output_type": "execute_result"
    }
   ],
   "source": [
    "final.fit(trainset)"
   ]
  },
  {
   "cell_type": "code",
   "execution_count": 19,
   "metadata": {},
   "outputs": [],
   "source": [
    "predictions = final.test(testset)"
   ]
  },
  {
   "cell_type": "code",
   "execution_count": 20,
   "metadata": {
    "scrolled": true
   },
   "outputs": [
    {
     "name": "stdout",
     "output_type": "stream",
     "text": [
      "RMSE: 1.2937\n",
      "MAE:  1.0541\n"
     ]
    },
    {
     "data": {
      "text/plain": [
       "1.054124952280542"
      ]
     },
     "execution_count": 20,
     "metadata": {},
     "output_type": "execute_result"
    }
   ],
   "source": [
    "accuracy.rmse(predictions)\n",
    "accuracy.mae(predictions)"
   ]
  },
  {
   "cell_type": "markdown",
   "metadata": {},
   "source": [
    "### 5. Making Predictions (again)\n",
    "Unfortunately, this dataset has a convoluted string as the user/business IDs."
   ]
  },
  {
   "cell_type": "code",
   "execution_count": 21,
   "metadata": {},
   "outputs": [
    {
     "data": {
      "text/plain": [
       "'HPtjvIrhzAUkKsiVkeT4MA'"
      ]
     },
     "execution_count": 21,
     "metadata": {},
     "output_type": "execute_result"
    }
   ],
   "source": [
    "yelp['user_id'][55]"
   ]
  },
  {
   "cell_type": "code",
   "execution_count": 22,
   "metadata": {},
   "outputs": [
    {
     "data": {
      "text/plain": [
       "'--7zmmkVg-IMGaXbuVd0SQ'"
      ]
     },
     "execution_count": 22,
     "metadata": {},
     "output_type": "execute_result"
    }
   ],
   "source": [
    "yelp['business_id'][123]"
   ]
  },
  {
   "cell_type": "code",
   "execution_count": 23,
   "metadata": {
    "scrolled": true
   },
   "outputs": [
    {
     "data": {
      "text/plain": [
       "Prediction(uid='HPtjvIrhzAUkKsiVkeT4MA', iid='--1UhMGODdWsrMastO9DZw', r_ui=None, est=3.8232562847890077, details={'was_impossible': False})"
      ]
     },
     "execution_count": 23,
     "metadata": {},
     "output_type": "execute_result"
    }
   ],
   "source": [
    "final.predict(yelp['user_id'][55], yelp['business_id'][13])"
   ]
  },
  {
   "cell_type": "markdown",
   "metadata": {},
   "source": [
    "### 6. What else?\n",
    "\n",
    "Surprise has sample code where you can get the top **n** recommended items for a user. https://surprise.readthedocs.io/en/stable/FAQ.html"
   ]
  },
  {
   "cell_type": "markdown",
   "metadata": {},
   "source": [
    "# Resources\n",
    "- The structure of our lesson on recommendation engines is based on Chapter 9 of **Mining of Massive Datasets**: http://infolab.stanford.edu/~ullman/mmds/book.pdf\n",
    "- Libraries for coding recommendation engines: \n",
    "    - Surprise: https://surprise.readthedocs.io/en/stable/index.html\n",
    "    - LightFM: https://lyst.github.io/lightfm/docs/index.html"
   ]
  }
 ],
 "metadata": {
  "kernelspec": {
   "display_name": "Python 3",
   "language": "python",
   "name": "python3"
  },
  "language_info": {
   "codemirror_mode": {
    "name": "ipython",
    "version": 3
   },
   "file_extension": ".py",
   "mimetype": "text/x-python",
   "name": "python",
   "nbconvert_exporter": "python",
   "pygments_lexer": "ipython3",
   "version": "3.6.6"
  }
 },
 "nbformat": 4,
 "nbformat_minor": 2
}
